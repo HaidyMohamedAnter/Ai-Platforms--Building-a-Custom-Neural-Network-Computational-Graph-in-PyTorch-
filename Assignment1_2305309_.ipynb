{
  "nbformat": 4,
  "nbformat_minor": 0,
  "metadata": {
    "colab": {
      "provenance": [],
      "gpuType": "T4",
      "authorship_tag": "ABX9TyOVEevu3EjSJKQdy+GwOY10",
      "include_colab_link": true
    },
    "kernelspec": {
      "name": "python3",
      "display_name": "Python 3"
    },
    "language_info": {
      "name": "python"
    },
    "accelerator": "GPU"
  },
  "cells": [
    {
      "cell_type": "markdown",
      "metadata": {
        "id": "view-in-github",
        "colab_type": "text"
      },
      "source": [
        "<a href=\"https://colab.research.google.com/github/HaidyMohamedAnter/Ai-Platforms--Building-a-Custom-Neural-Network-Computational-Graph-in-PyTorch-/blob/main/Assignment1_2305309_.ipynb\" target=\"_parent\"><img src=\"https://colab.research.google.com/assets/colab-badge.svg\" alt=\"Open In Colab\"/></a>"
      ]
    },
    {
      "cell_type": "code",
      "execution_count": 62,
      "metadata": {
        "id": "QtK-LjfNsoMJ"
      },
      "outputs": [],
      "source": [
        "#Name:Haidy Mohamed Anter\n",
        "#student id:2305309"
      ]
    },
    {
      "cell_type": "code",
      "source": [
        "import torch\n",
        "import torch.nn as nn\n",
        "import torch.nn.functional as F\n",
        "from torchviz import make_dot"
      ],
      "metadata": {
        "id": "oaTOordPtCVD"
      },
      "execution_count": 63,
      "outputs": []
    },
    {
      "cell_type": "code",
      "source": [
        "#NetworkInGraph\n",
        "class NeuralNet(nn.Module):\n",
        "    def __init__(self):\n",
        "\n",
        "        super(NeuralNet, self).__init__()\n",
        "        self.w00 = torch.randn(1, requires_grad=True)\n",
        "        self.b00 = torch.randn(1, requires_grad=True)\n",
        "        self.w01 = torch.randn(1, requires_grad=True)\n",
        "        self.b01 = torch.randn(1, requires_grad=True)\n",
        "        self.w02 = torch.randn(1, requires_grad=True)\n",
        "        self.b02 = torch.randn(1, requires_grad=True)\n",
        "\n",
        "# Sigmoid\n",
        "        self.w10 = torch.randn(1, requires_grad=True)\n",
        "        self.b10 = torch.randn(1, requires_grad=True)\n",
        "\n",
        "        self.w11 = torch.randn(1, requires_grad=True)\n",
        "        self.b11 = torch.randn(1, requires_grad=True)\n",
        "\n",
        "#linear out\n",
        "        self.w20 = torch.randn(1, requires_grad=True)\n",
        "        self.b20 = torch.randn(1, requires_grad=True)\n",
        "# Forward Pass Manual\n",
        "    def forward(self, x):\n",
        "#L1\n",
        "        z00 = self.w00 * x + self.b00\n",
        "        z01 = self.w01 * x + self.b01\n",
        "        z02 = self.w02 * x + self.b02\n",
        "        layer1_out = torch.relu(torch.stack([z00, z01, z02]))\n",
        "        print(\"Layer1 output ReLU:\", layer1_out)\n",
        "#L2\n",
        "        z10 = self.w10 * x + self.b10\n",
        "        z11 = self.w11 * x + self.b11\n",
        "        layer2_out = torch.sigmoid(torch.stack([z10, z11]))\n",
        "        print(\"Layer2 output Sigmoid:\", layer2_out)\n",
        "\n",
        "#Combine\n",
        "        combined = layer1_out.sum() + layer2_out.sum()\n",
        "        combined_tanh = torch.tanh(combined)\n",
        "        print(\"Combined after Tanh:\", combined_tanh)\n",
        "\n",
        "#Out Layer\n",
        "        final_out = self.w20 * combined_tanh + self.b20\n",
        "        print(\"Output Linear:\", final_out)\n",
        "        return final_out\n"
      ],
      "metadata": {
        "id": "Ue5PzxeytZKV"
      },
      "execution_count": 64,
      "outputs": []
    },
    {
      "cell_type": "code",
      "source": [
        "#createModel\n",
        "model = NeuralNet()"
      ],
      "metadata": {
        "id": "oOyoDDVqvv_K"
      },
      "execution_count": 65,
      "outputs": []
    },
    {
      "cell_type": "code",
      "source": [
        "#The gradient track with tensorr\n",
        "x = torch.tensor([1.0], requires_grad=True)"
      ],
      "metadata": {
        "id": "beh752Gxv5OS"
      },
      "execution_count": 66,
      "outputs": []
    },
    {
      "cell_type": "code",
      "source": [
        "#FrowardPass\n",
        "output = model(x)"
      ],
      "metadata": {
        "colab": {
          "base_uri": "https://localhost:8080/"
        },
        "id": "V-EzNU8SwcXc",
        "outputId": "6c9a73fa-29b3-4252-8a61-eecb3a3f8395"
      },
      "execution_count": 67,
      "outputs": [
        {
          "output_type": "stream",
          "name": "stdout",
          "text": [
            "Layer1 output ReLU: tensor([[0.9622],\n",
            "        [0.0000],\n",
            "        [0.0000]], grad_fn=<ReluBackward0>)\n",
            "Layer2 output Sigmoid: tensor([[0.3946],\n",
            "        [0.5587]], grad_fn=<SigmoidBackward0>)\n",
            "Combined after Tanh: tensor(0.9575, grad_fn=<TanhBackward0>)\n",
            "Output Linear: tensor([0.8359], grad_fn=<AddBackward0>)\n"
          ]
        }
      ]
    },
    {
      "cell_type": "code",
      "source": [
        "#BackWard\n",
        "output.backward()"
      ],
      "metadata": {
        "id": "kwL1h8JzwcGW"
      },
      "execution_count": 68,
      "outputs": []
    },
    {
      "cell_type": "code",
      "source": [
        "print(\"Gradients of each parameter\")\n",
        "print(\"Gradient of input x:\", x.grad)\n",
        "print(\"w00:\", model.w00.grad)\n",
        "print(\"b00:\", model.b00.grad)\n",
        "print(\"w01:\", model.w01.grad)\n",
        "print(\"b01:\", model.b01.grad)\n",
        "print(\"w02:\", model.w02.grad)\n",
        "print(\"b02:\", model.b02.grad)\n",
        "print(\"w10:\", model.w10.grad)\n",
        "print(\"b10:\", model.b10.grad)\n",
        "print(\"w11:\", model.w11.grad)\n",
        "print(\"b11:\", model.b11.grad)\n",
        "print(\"w20:\", model.w20.grad)\n",
        "print(\"b20:\", model.b20.grad)"
      ],
      "metadata": {
        "colab": {
          "base_uri": "https://localhost:8080/"
        },
        "id": "x4sCRkg-1JNC",
        "outputId": "76ac9a1a-0b07-4da5-93b6-1b32607ef2de"
      },
      "execution_count": 69,
      "outputs": [
        {
          "output_type": "stream",
          "name": "stdout",
          "text": [
            "Gradients of each parameter\n",
            "Gradient of input x: tensor([0.0102])\n",
            "w00: tensor([0.0232])\n",
            "b00: tensor([0.0232])\n",
            "w01: tensor([0.])\n",
            "b01: tensor([0.])\n",
            "w02: tensor([0.])\n",
            "b02: tensor([0.])\n",
            "w10: tensor([0.0056])\n",
            "b10: tensor([0.0056])\n",
            "w11: tensor([0.0057])\n",
            "b11: tensor([0.0057])\n",
            "w20: tensor([0.9575])\n",
            "b20: tensor([1.])\n"
          ]
        }
      ]
    },
    {
      "cell_type": "code",
      "source": [
        "#TOShowTheComputationalGraph\n",
        "graph = make_dot(output, params={\"x\": x, **dict(model.named_parameters())})\n",
        "graph.render(\"neural_net_graph\", format=\"png\")  # Saves it as image\n",
        "graph"
      ],
      "metadata": {
        "colab": {
          "base_uri": "https://localhost:8080/",
          "height": 884
        },
        "id": "EoUEFuS4-ywb",
        "outputId": "a691787b-29c8-42bd-a09c-ab47b80cf727"
      },
      "execution_count": 70,
      "outputs": [
        {
          "output_type": "execute_result",
          "data": {
            "image/svg+xml": "<?xml version=\"1.0\" encoding=\"UTF-8\" standalone=\"no\"?>\n<!DOCTYPE svg PUBLIC \"-//W3C//DTD SVG 1.1//EN\"\n \"http://www.w3.org/Graphics/SVG/1.1/DTD/svg11.dtd\">\n<!-- Generated by graphviz version 2.43.0 (0)\n -->\n<!-- Title: %3 Pages: 1 -->\n<svg width=\"1048pt\" height=\"632pt\"\n viewBox=\"0.00 0.00 1048.00 631.72\" xmlns=\"http://www.w3.org/2000/svg\" xmlns:xlink=\"http://www.w3.org/1999/xlink\">\n<g id=\"graph0\" class=\"graph\" transform=\"scale(0.91 0.91) rotate(0) translate(4 688)\">\n<title>%3</title>\n<polygon fill=\"white\" stroke=\"transparent\" points=\"-4,4 -4,-688 1144,-688 1144,4 -4,4\"/>\n<!-- 133005880798784 -->\n<g id=\"node1\" class=\"node\">\n<title>133005880798784</title>\n<polygon fill=\"#caff70\" stroke=\"black\" points=\"797.5,-31 743.5,-31 743.5,0 797.5,0 797.5,-31\"/>\n<text text-anchor=\"middle\" x=\"770.5\" y=\"-7\" font-family=\"monospace\" font-size=\"10.00\"> (1)</text>\n</g>\n<!-- 133005887413968 -->\n<g id=\"node2\" class=\"node\">\n<title>133005887413968</title>\n<polygon fill=\"lightgrey\" stroke=\"black\" points=\"815,-86 726,-86 726,-67 815,-67 815,-86\"/>\n<text text-anchor=\"middle\" x=\"770.5\" y=\"-74\" font-family=\"monospace\" font-size=\"10.00\">AddBackward0</text>\n</g>\n<!-- 133005887413968&#45;&gt;133005880798784 -->\n<g id=\"edge50\" class=\"edge\">\n<title>133005887413968&#45;&gt;133005880798784</title>\n<path fill=\"none\" stroke=\"black\" d=\"M770.5,-66.79C770.5,-60.07 770.5,-50.4 770.5,-41.34\"/>\n<polygon fill=\"black\" stroke=\"black\" points=\"774,-41.19 770.5,-31.19 767,-41.19 774,-41.19\"/>\n</g>\n<!-- 133005887412672 -->\n<g id=\"node3\" class=\"node\">\n<title>133005887412672</title>\n<polygon fill=\"lightgrey\" stroke=\"black\" points=\"759,-141 670,-141 670,-122 759,-122 759,-141\"/>\n<text text-anchor=\"middle\" x=\"714.5\" y=\"-129\" font-family=\"monospace\" font-size=\"10.00\">MulBackward0</text>\n</g>\n<!-- 133005887412672&#45;&gt;133005887413968 -->\n<g id=\"edge1\" class=\"edge\">\n<title>133005887412672&#45;&gt;133005887413968</title>\n<path fill=\"none\" stroke=\"black\" d=\"M723.5,-121.98C731.69,-114.23 744.01,-102.58 753.97,-93.14\"/>\n<polygon fill=\"black\" stroke=\"black\" points=\"756.48,-95.59 761.34,-86.17 751.67,-90.5 756.48,-95.59\"/>\n</g>\n<!-- 133005887416656 -->\n<g id=\"node4\" class=\"node\">\n<title>133005887416656</title>\n<polygon fill=\"lightgrey\" stroke=\"black\" points=\"774,-202 673,-202 673,-183 774,-183 774,-202\"/>\n<text text-anchor=\"middle\" x=\"723.5\" y=\"-190\" font-family=\"monospace\" font-size=\"10.00\">AccumulateGrad</text>\n</g>\n<!-- 133005887416656&#45;&gt;133005887412672 -->\n<g id=\"edge2\" class=\"edge\">\n<title>133005887416656&#45;&gt;133005887412672</title>\n<path fill=\"none\" stroke=\"black\" d=\"M722.17,-182.79C720.91,-174.52 718.97,-161.79 717.35,-151.21\"/>\n<polygon fill=\"black\" stroke=\"black\" points=\"720.8,-150.6 715.83,-141.24 713.88,-151.65 720.8,-150.6\"/>\n</g>\n<!-- 133005880796384 -->\n<g id=\"node5\" class=\"node\">\n<title>133005880796384</title>\n<polygon fill=\"lightblue\" stroke=\"black\" points=\"750.5,-275 696.5,-275 696.5,-244 750.5,-244 750.5,-275\"/>\n<text text-anchor=\"middle\" x=\"723.5\" y=\"-251\" font-family=\"monospace\" font-size=\"10.00\"> (1)</text>\n</g>\n<!-- 133005880796384&#45;&gt;133005887416656 -->\n<g id=\"edge3\" class=\"edge\">\n<title>133005880796384&#45;&gt;133005887416656</title>\n<path fill=\"none\" stroke=\"black\" d=\"M723.5,-243.75C723.5,-234.39 723.5,-222.19 723.5,-212.16\"/>\n<polygon fill=\"black\" stroke=\"black\" points=\"727,-212.02 723.5,-202.02 720,-212.02 727,-212.02\"/>\n</g>\n<!-- 133005887417664 -->\n<g id=\"node6\" class=\"node\">\n<title>133005887417664</title>\n<polygon fill=\"lightgrey\" stroke=\"black\" points=\"655,-202 560,-202 560,-183 655,-183 655,-202\"/>\n<text text-anchor=\"middle\" x=\"607.5\" y=\"-190\" font-family=\"monospace\" font-size=\"10.00\">TanhBackward0</text>\n</g>\n<!-- 133005887417664&#45;&gt;133005887412672 -->\n<g id=\"edge4\" class=\"edge\">\n<title>133005887417664&#45;&gt;133005887412672</title>\n<path fill=\"none\" stroke=\"black\" d=\"M623.29,-182.79C640.93,-173.07 669.71,-157.2 690.22,-145.89\"/>\n<polygon fill=\"black\" stroke=\"black\" points=\"691.93,-148.94 698.99,-141.05 688.55,-142.81 691.93,-148.94\"/>\n</g>\n<!-- 133005887418144 -->\n<g id=\"node7\" class=\"node\">\n<title>133005887418144</title>\n<polygon fill=\"lightgrey\" stroke=\"black\" points=\"652,-269 563,-269 563,-250 652,-250 652,-269\"/>\n<text text-anchor=\"middle\" x=\"607.5\" y=\"-257\" font-family=\"monospace\" font-size=\"10.00\">AddBackward0</text>\n</g>\n<!-- 133005887418144&#45;&gt;133005887417664 -->\n<g id=\"edge5\" class=\"edge\">\n<title>133005887418144&#45;&gt;133005887417664</title>\n<path fill=\"none\" stroke=\"black\" d=\"M607.5,-249.73C607.5,-240.18 607.5,-224.62 607.5,-212.28\"/>\n<polygon fill=\"black\" stroke=\"black\" points=\"611,-212.13 607.5,-202.13 604,-212.13 611,-212.13\"/>\n</g>\n<!-- 133005887413536 -->\n<g id=\"node8\" class=\"node\">\n<title>133005887413536</title>\n<polygon fill=\"lightgrey\" stroke=\"black\" points=\"599,-330 510,-330 510,-311 599,-311 599,-330\"/>\n<text text-anchor=\"middle\" x=\"554.5\" y=\"-318\" font-family=\"monospace\" font-size=\"10.00\">SumBackward0</text>\n</g>\n<!-- 133005887413536&#45;&gt;133005887418144 -->\n<g id=\"edge6\" class=\"edge\">\n<title>133005887413536&#45;&gt;133005887418144</title>\n<path fill=\"none\" stroke=\"black\" d=\"M562.32,-310.79C570.31,-301.91 582.89,-287.89 592.76,-276.91\"/>\n<polygon fill=\"black\" stroke=\"black\" points=\"595.57,-279.02 599.65,-269.24 590.36,-274.34 595.57,-279.02\"/>\n</g>\n<!-- 133005887414592 -->\n<g id=\"node9\" class=\"node\">\n<title>133005887414592</title>\n<polygon fill=\"lightgrey\" stroke=\"black\" points=\"595,-385 500,-385 500,-366 595,-366 595,-385\"/>\n<text text-anchor=\"middle\" x=\"547.5\" y=\"-373\" font-family=\"monospace\" font-size=\"10.00\">ReluBackward0</text>\n</g>\n<!-- 133005887414592&#45;&gt;133005887413536 -->\n<g id=\"edge7\" class=\"edge\">\n<title>133005887414592&#45;&gt;133005887413536</title>\n<path fill=\"none\" stroke=\"black\" d=\"M548.66,-365.75C549.57,-358.8 550.89,-348.85 552.04,-340.13\"/>\n<polygon fill=\"black\" stroke=\"black\" points=\"555.53,-340.46 553.37,-330.09 548.59,-339.54 555.53,-340.46\"/>\n</g>\n<!-- 133005887414112 -->\n<g id=\"node10\" class=\"node\">\n<title>133005887414112</title>\n<polygon fill=\"lightgrey\" stroke=\"black\" points=\"496,-440 395,-440 395,-421 496,-421 496,-440\"/>\n<text text-anchor=\"middle\" x=\"445.5\" y=\"-428\" font-family=\"monospace\" font-size=\"10.00\">StackBackward0</text>\n</g>\n<!-- 133005887414112&#45;&gt;133005887414592 -->\n<g id=\"edge8\" class=\"edge\">\n<title>133005887414112&#45;&gt;133005887414592</title>\n<path fill=\"none\" stroke=\"black\" d=\"M461.89,-420.98C478.07,-412.57 503.07,-399.59 521.88,-389.81\"/>\n<polygon fill=\"black\" stroke=\"black\" points=\"523.55,-392.89 530.81,-385.17 520.33,-386.68 523.55,-392.89\"/>\n</g>\n<!-- 133005887414784 -->\n<g id=\"node11\" class=\"node\">\n<title>133005887414784</title>\n<polygon fill=\"lightgrey\" stroke=\"black\" points=\"208,-495 119,-495 119,-476 208,-476 208,-495\"/>\n<text text-anchor=\"middle\" x=\"163.5\" y=\"-483\" font-family=\"monospace\" font-size=\"10.00\">AddBackward0</text>\n</g>\n<!-- 133005887414784&#45;&gt;133005887414112 -->\n<g id=\"edge9\" class=\"edge\">\n<title>133005887414784&#45;&gt;133005887414112</title>\n<path fill=\"none\" stroke=\"black\" d=\"M208.18,-476.1C257.5,-466.83 336.92,-451.91 390.14,-441.9\"/>\n<polygon fill=\"black\" stroke=\"black\" points=\"390.91,-445.32 400.09,-440.03 389.62,-438.44 390.91,-445.32\"/>\n</g>\n<!-- 133005887415024 -->\n<g id=\"node12\" class=\"node\">\n<title>133005887415024</title>\n<polygon fill=\"lightgrey\" stroke=\"black\" points=\"208,-550 119,-550 119,-531 208,-531 208,-550\"/>\n<text text-anchor=\"middle\" x=\"163.5\" y=\"-538\" font-family=\"monospace\" font-size=\"10.00\">MulBackward0</text>\n</g>\n<!-- 133005887415024&#45;&gt;133005887414784 -->\n<g id=\"edge10\" class=\"edge\">\n<title>133005887415024&#45;&gt;133005887414784</title>\n<path fill=\"none\" stroke=\"black\" d=\"M163.5,-530.75C163.5,-523.8 163.5,-513.85 163.5,-505.13\"/>\n<polygon fill=\"black\" stroke=\"black\" points=\"167,-505.09 163.5,-495.09 160,-505.09 167,-505.09\"/>\n</g>\n<!-- 133005887415312 -->\n<g id=\"node13\" class=\"node\">\n<title>133005887415312</title>\n<polygon fill=\"lightgrey\" stroke=\"black\" points=\"214,-611 113,-611 113,-592 214,-592 214,-611\"/>\n<text text-anchor=\"middle\" x=\"163.5\" y=\"-599\" font-family=\"monospace\" font-size=\"10.00\">AccumulateGrad</text>\n</g>\n<!-- 133005887415312&#45;&gt;133005887415024 -->\n<g id=\"edge11\" class=\"edge\">\n<title>133005887415312&#45;&gt;133005887415024</title>\n<path fill=\"none\" stroke=\"black\" d=\"M163.5,-591.79C163.5,-583.6 163.5,-571.06 163.5,-560.55\"/>\n<polygon fill=\"black\" stroke=\"black\" points=\"167,-560.24 163.5,-550.24 160,-560.24 167,-560.24\"/>\n</g>\n<!-- 133005880771680 -->\n<g id=\"node14\" class=\"node\">\n<title>133005880771680</title>\n<polygon fill=\"lightblue\" stroke=\"black\" points=\"190.5,-684 136.5,-684 136.5,-653 190.5,-653 190.5,-684\"/>\n<text text-anchor=\"middle\" x=\"163.5\" y=\"-660\" font-family=\"monospace\" font-size=\"10.00\"> (1)</text>\n</g>\n<!-- 133005880771680&#45;&gt;133005887415312 -->\n<g id=\"edge12\" class=\"edge\">\n<title>133005880771680&#45;&gt;133005887415312</title>\n<path fill=\"none\" stroke=\"black\" d=\"M163.5,-652.75C163.5,-643.39 163.5,-631.19 163.5,-621.16\"/>\n<polygon fill=\"black\" stroke=\"black\" points=\"167,-621.02 163.5,-611.02 160,-621.02 167,-621.02\"/>\n</g>\n<!-- 133005887415360 -->\n<g id=\"node15\" class=\"node\">\n<title>133005887415360</title>\n<polygon fill=\"lightgrey\" stroke=\"black\" points=\"606,-611 505,-611 505,-592 606,-592 606,-611\"/>\n<text text-anchor=\"middle\" x=\"555.5\" y=\"-599\" font-family=\"monospace\" font-size=\"10.00\">AccumulateGrad</text>\n</g>\n<!-- 133005887415360&#45;&gt;133005887415024 -->\n<g id=\"edge13\" class=\"edge\">\n<title>133005887415360&#45;&gt;133005887415024</title>\n<path fill=\"none\" stroke=\"black\" d=\"M522.94,-591.95C514.08,-589.81 504.46,-587.66 495.5,-586 375.8,-563.88 342.01,-567.68 218.27,-550.21\"/>\n<polygon fill=\"black\" stroke=\"black\" points=\"218.41,-546.69 208.02,-548.74 217.42,-553.62 218.41,-546.69\"/>\n</g>\n<!-- 133005887415792 -->\n<g id=\"node20\" class=\"node\">\n<title>133005887415792</title>\n<polygon fill=\"lightgrey\" stroke=\"black\" points=\"434,-550 345,-550 345,-531 434,-531 434,-550\"/>\n<text text-anchor=\"middle\" x=\"389.5\" y=\"-538\" font-family=\"monospace\" font-size=\"10.00\">MulBackward0</text>\n</g>\n<!-- 133005887415360&#45;&gt;133005887415792 -->\n<g id=\"edge21\" class=\"edge\">\n<title>133005887415360&#45;&gt;133005887415792</title>\n<path fill=\"none\" stroke=\"black\" d=\"M531.36,-591.92C502.84,-581.78 455.21,-564.86 423.1,-553.44\"/>\n<polygon fill=\"black\" stroke=\"black\" points=\"424.26,-550.14 413.67,-550.09 421.92,-556.74 424.26,-550.14\"/>\n</g>\n<!-- 133005887416176 -->\n<g id=\"node26\" class=\"node\">\n<title>133005887416176</title>\n<polygon fill=\"lightgrey\" stroke=\"black\" points=\"660,-550 571,-550 571,-531 660,-531 660,-550\"/>\n<text text-anchor=\"middle\" x=\"615.5\" y=\"-538\" font-family=\"monospace\" font-size=\"10.00\">MulBackward0</text>\n</g>\n<!-- 133005887415360&#45;&gt;133005887416176 -->\n<g id=\"edge28\" class=\"edge\">\n<title>133005887415360&#45;&gt;133005887416176</title>\n<path fill=\"none\" stroke=\"black\" d=\"M564.35,-591.79C573.57,-582.73 588.21,-568.34 599.46,-557.27\"/>\n<polygon fill=\"black\" stroke=\"black\" points=\"601.93,-559.75 606.61,-550.24 597.03,-554.76 601.93,-559.75\"/>\n</g>\n<!-- 133005887416416 -->\n<g id=\"node35\" class=\"node\">\n<title>133005887416416</title>\n<polygon fill=\"lightgrey\" stroke=\"black\" points=\"1021,-550 932,-550 932,-531 1021,-531 1021,-550\"/>\n<text text-anchor=\"middle\" x=\"976.5\" y=\"-538\" font-family=\"monospace\" font-size=\"10.00\">MulBackward0</text>\n</g>\n<!-- 133005887415360&#45;&gt;133005887416416 -->\n<g id=\"edge38\" class=\"edge\">\n<title>133005887415360&#45;&gt;133005887416416</title>\n<path fill=\"none\" stroke=\"black\" d=\"M587.19,-591.94C595.99,-589.78 605.57,-587.61 614.5,-586 747.38,-562.03 784.8,-568.62 921.94,-550.15\"/>\n<polygon fill=\"black\" stroke=\"black\" points=\"922.55,-553.6 931.99,-548.78 921.61,-546.67 922.55,-553.6\"/>\n</g>\n<!-- 133005887416848 -->\n<g id=\"node41\" class=\"node\">\n<title>133005887416848</title>\n<polygon fill=\"lightgrey\" stroke=\"black\" points=\"795,-550 706,-550 706,-531 795,-531 795,-550\"/>\n<text text-anchor=\"middle\" x=\"750.5\" y=\"-538\" font-family=\"monospace\" font-size=\"10.00\">MulBackward0</text>\n</g>\n<!-- 133005887415360&#45;&gt;133005887416848 -->\n<g id=\"edge45\" class=\"edge\">\n<title>133005887415360&#45;&gt;133005887416848</title>\n<path fill=\"none\" stroke=\"black\" d=\"M583.85,-591.92C617.79,-581.65 674.76,-564.42 712.49,-553\"/>\n<polygon fill=\"black\" stroke=\"black\" points=\"713.55,-556.34 722.11,-550.09 711.53,-549.64 713.55,-556.34\"/>\n</g>\n<!-- 133005880771760 -->\n<g id=\"node16\" class=\"node\">\n<title>133005880771760</title>\n<polygon fill=\"lightblue\" stroke=\"black\" points=\"582.5,-683.5 528.5,-683.5 528.5,-653.5 582.5,-653.5 582.5,-683.5\"/>\n<text text-anchor=\"middle\" x=\"555.5\" y=\"-671.5\" font-family=\"monospace\" font-size=\"10.00\">x</text>\n<text text-anchor=\"middle\" x=\"555.5\" y=\"-660.5\" font-family=\"monospace\" font-size=\"10.00\"> (1)</text>\n</g>\n<!-- 133005880771760&#45;&gt;133005887415360 -->\n<g id=\"edge14\" class=\"edge\">\n<title>133005880771760&#45;&gt;133005887415360</title>\n<path fill=\"none\" stroke=\"black\" d=\"M555.5,-653.4C555.5,-644.06 555.5,-631.71 555.5,-621.52\"/>\n<polygon fill=\"black\" stroke=\"black\" points=\"559,-621.19 555.5,-611.19 552,-621.19 559,-621.19\"/>\n</g>\n<!-- 133005887415168 -->\n<g id=\"node17\" class=\"node\">\n<title>133005887415168</title>\n<polygon fill=\"lightgrey\" stroke=\"black\" points=\"101,-550 0,-550 0,-531 101,-531 101,-550\"/>\n<text text-anchor=\"middle\" x=\"50.5\" y=\"-538\" font-family=\"monospace\" font-size=\"10.00\">AccumulateGrad</text>\n</g>\n<!-- 133005887415168&#45;&gt;133005887414784 -->\n<g id=\"edge15\" class=\"edge\">\n<title>133005887415168&#45;&gt;133005887414784</title>\n<path fill=\"none\" stroke=\"black\" d=\"M68.66,-530.98C86.75,-522.5 114.78,-509.35 135.69,-499.54\"/>\n<polygon fill=\"black\" stroke=\"black\" points=\"137.45,-502.59 145.01,-495.17 134.47,-496.25 137.45,-502.59\"/>\n</g>\n<!-- 133005888127296 -->\n<g id=\"node18\" class=\"node\">\n<title>133005888127296</title>\n<polygon fill=\"lightblue\" stroke=\"black\" points=\"77.5,-617 23.5,-617 23.5,-586 77.5,-586 77.5,-617\"/>\n<text text-anchor=\"middle\" x=\"50.5\" y=\"-593\" font-family=\"monospace\" font-size=\"10.00\"> (1)</text>\n</g>\n<!-- 133005888127296&#45;&gt;133005887415168 -->\n<g id=\"edge16\" class=\"edge\">\n<title>133005888127296&#45;&gt;133005887415168</title>\n<path fill=\"none\" stroke=\"black\" d=\"M50.5,-585.92C50.5,-578.22 50.5,-568.69 50.5,-560.43\"/>\n<polygon fill=\"black\" stroke=\"black\" points=\"54,-560.25 50.5,-550.25 47,-560.25 54,-560.25\"/>\n</g>\n<!-- 133005887414496 -->\n<g id=\"node19\" class=\"node\">\n<title>133005887414496</title>\n<polygon fill=\"lightgrey\" stroke=\"black\" points=\"434,-495 345,-495 345,-476 434,-476 434,-495\"/>\n<text text-anchor=\"middle\" x=\"389.5\" y=\"-483\" font-family=\"monospace\" font-size=\"10.00\">AddBackward0</text>\n</g>\n<!-- 133005887414496&#45;&gt;133005887414112 -->\n<g id=\"edge17\" class=\"edge\">\n<title>133005887414496&#45;&gt;133005887414112</title>\n<path fill=\"none\" stroke=\"black\" d=\"M398.5,-475.98C406.69,-468.23 419.01,-456.58 428.97,-447.14\"/>\n<polygon fill=\"black\" stroke=\"black\" points=\"431.48,-449.59 436.34,-440.17 426.67,-444.5 431.48,-449.59\"/>\n</g>\n<!-- 133005887415792&#45;&gt;133005887414496 -->\n<g id=\"edge18\" class=\"edge\">\n<title>133005887415792&#45;&gt;133005887414496</title>\n<path fill=\"none\" stroke=\"black\" d=\"M389.5,-530.75C389.5,-523.8 389.5,-513.85 389.5,-505.13\"/>\n<polygon fill=\"black\" stroke=\"black\" points=\"393,-505.09 389.5,-495.09 386,-505.09 393,-505.09\"/>\n</g>\n<!-- 133005887416032 -->\n<g id=\"node21\" class=\"node\">\n<title>133005887416032</title>\n<polygon fill=\"lightgrey\" stroke=\"black\" points=\"414,-611 313,-611 313,-592 414,-592 414,-611\"/>\n<text text-anchor=\"middle\" x=\"363.5\" y=\"-599\" font-family=\"monospace\" font-size=\"10.00\">AccumulateGrad</text>\n</g>\n<!-- 133005887416032&#45;&gt;133005887415792 -->\n<g id=\"edge19\" class=\"edge\">\n<title>133005887416032&#45;&gt;133005887415792</title>\n<path fill=\"none\" stroke=\"black\" d=\"M367.34,-591.79C371.06,-583.34 376.83,-570.25 381.55,-559.55\"/>\n<polygon fill=\"black\" stroke=\"black\" points=\"384.82,-560.8 385.65,-550.24 378.41,-557.98 384.82,-560.8\"/>\n</g>\n<!-- 133005888127056 -->\n<g id=\"node22\" class=\"node\">\n<title>133005888127056</title>\n<polygon fill=\"lightblue\" stroke=\"black\" points=\"390.5,-684 336.5,-684 336.5,-653 390.5,-653 390.5,-684\"/>\n<text text-anchor=\"middle\" x=\"363.5\" y=\"-660\" font-family=\"monospace\" font-size=\"10.00\"> (1)</text>\n</g>\n<!-- 133005888127056&#45;&gt;133005887416032 -->\n<g id=\"edge20\" class=\"edge\">\n<title>133005888127056&#45;&gt;133005887416032</title>\n<path fill=\"none\" stroke=\"black\" d=\"M363.5,-652.75C363.5,-643.39 363.5,-631.19 363.5,-621.16\"/>\n<polygon fill=\"black\" stroke=\"black\" points=\"367,-621.02 363.5,-611.02 360,-621.02 367,-621.02\"/>\n</g>\n<!-- 133005887415504 -->\n<g id=\"node23\" class=\"node\">\n<title>133005887415504</title>\n<polygon fill=\"lightgrey\" stroke=\"black\" points=\"327,-550 226,-550 226,-531 327,-531 327,-550\"/>\n<text text-anchor=\"middle\" x=\"276.5\" y=\"-538\" font-family=\"monospace\" font-size=\"10.00\">AccumulateGrad</text>\n</g>\n<!-- 133005887415504&#45;&gt;133005887414496 -->\n<g id=\"edge22\" class=\"edge\">\n<title>133005887415504&#45;&gt;133005887414496</title>\n<path fill=\"none\" stroke=\"black\" d=\"M294.66,-530.98C312.75,-522.5 340.78,-509.35 361.69,-499.54\"/>\n<polygon fill=\"black\" stroke=\"black\" points=\"363.45,-502.59 371.01,-495.17 360.47,-496.25 363.45,-502.59\"/>\n</g>\n<!-- 133010454606816 -->\n<g id=\"node24\" class=\"node\">\n<title>133010454606816</title>\n<polygon fill=\"lightblue\" stroke=\"black\" points=\"294.5,-617 240.5,-617 240.5,-586 294.5,-586 294.5,-617\"/>\n<text text-anchor=\"middle\" x=\"267.5\" y=\"-593\" font-family=\"monospace\" font-size=\"10.00\"> (1)</text>\n</g>\n<!-- 133010454606816&#45;&gt;133005887415504 -->\n<g id=\"edge23\" class=\"edge\">\n<title>133010454606816&#45;&gt;133005887415504</title>\n<path fill=\"none\" stroke=\"black\" d=\"M269.72,-585.92C270.91,-578.13 272.39,-568.47 273.66,-560.15\"/>\n<polygon fill=\"black\" stroke=\"black\" points=\"277.12,-560.66 275.17,-550.25 270.2,-559.61 277.12,-560.66\"/>\n</g>\n<!-- 133005887413152 -->\n<g id=\"node25\" class=\"node\">\n<title>133005887413152</title>\n<polygon fill=\"lightgrey\" stroke=\"black\" points=\"547,-495 458,-495 458,-476 547,-476 547,-495\"/>\n<text text-anchor=\"middle\" x=\"502.5\" y=\"-483\" font-family=\"monospace\" font-size=\"10.00\">AddBackward0</text>\n</g>\n<!-- 133005887413152&#45;&gt;133005887414112 -->\n<g id=\"edge24\" class=\"edge\">\n<title>133005887413152&#45;&gt;133005887414112</title>\n<path fill=\"none\" stroke=\"black\" d=\"M493.34,-475.98C485,-468.23 472.47,-456.58 462.32,-447.14\"/>\n<polygon fill=\"black\" stroke=\"black\" points=\"464.53,-444.42 454.82,-440.17 459.76,-449.54 464.53,-444.42\"/>\n</g>\n<!-- 133005887416176&#45;&gt;133005887413152 -->\n<g id=\"edge25\" class=\"edge\">\n<title>133005887416176&#45;&gt;133005887413152</title>\n<path fill=\"none\" stroke=\"black\" d=\"M597.34,-530.98C579.25,-522.5 551.22,-509.35 530.31,-499.54\"/>\n<polygon fill=\"black\" stroke=\"black\" points=\"531.53,-496.25 520.99,-495.17 528.55,-502.59 531.53,-496.25\"/>\n</g>\n<!-- 133005887415216 -->\n<g id=\"node27\" class=\"node\">\n<title>133005887415216</title>\n<polygon fill=\"lightgrey\" stroke=\"black\" points=\"725,-611 624,-611 624,-592 725,-592 725,-611\"/>\n<text text-anchor=\"middle\" x=\"674.5\" y=\"-599\" font-family=\"monospace\" font-size=\"10.00\">AccumulateGrad</text>\n</g>\n<!-- 133005887415216&#45;&gt;133005887416176 -->\n<g id=\"edge26\" class=\"edge\">\n<title>133005887415216&#45;&gt;133005887416176</title>\n<path fill=\"none\" stroke=\"black\" d=\"M665.79,-591.79C656.82,-582.82 642.62,-568.62 631.59,-557.59\"/>\n<polygon fill=\"black\" stroke=\"black\" points=\"633.79,-554.84 624.24,-550.24 628.84,-559.79 633.79,-554.84\"/>\n</g>\n<!-- 133010454609056 -->\n<g id=\"node28\" class=\"node\">\n<title>133010454609056</title>\n<polygon fill=\"lightblue\" stroke=\"black\" points=\"701.5,-684 647.5,-684 647.5,-653 701.5,-653 701.5,-684\"/>\n<text text-anchor=\"middle\" x=\"674.5\" y=\"-660\" font-family=\"monospace\" font-size=\"10.00\"> (1)</text>\n</g>\n<!-- 133010454609056&#45;&gt;133005887415216 -->\n<g id=\"edge27\" class=\"edge\">\n<title>133010454609056&#45;&gt;133005887415216</title>\n<path fill=\"none\" stroke=\"black\" d=\"M674.5,-652.75C674.5,-643.39 674.5,-631.19 674.5,-621.16\"/>\n<polygon fill=\"black\" stroke=\"black\" points=\"678,-621.02 674.5,-611.02 671,-621.02 678,-621.02\"/>\n</g>\n<!-- 133005887416272 -->\n<g id=\"node29\" class=\"node\">\n<title>133005887416272</title>\n<polygon fill=\"lightgrey\" stroke=\"black\" points=\"553,-550 452,-550 452,-531 553,-531 553,-550\"/>\n<text text-anchor=\"middle\" x=\"502.5\" y=\"-538\" font-family=\"monospace\" font-size=\"10.00\">AccumulateGrad</text>\n</g>\n<!-- 133005887416272&#45;&gt;133005887413152 -->\n<g id=\"edge29\" class=\"edge\">\n<title>133005887416272&#45;&gt;133005887413152</title>\n<path fill=\"none\" stroke=\"black\" d=\"M502.5,-530.75C502.5,-523.8 502.5,-513.85 502.5,-505.13\"/>\n<polygon fill=\"black\" stroke=\"black\" points=\"506,-505.09 502.5,-495.09 499,-505.09 506,-505.09\"/>\n</g>\n<!-- 133006079280304 -->\n<g id=\"node30\" class=\"node\">\n<title>133006079280304</title>\n<polygon fill=\"lightblue\" stroke=\"black\" points=\"486.5,-617 432.5,-617 432.5,-586 486.5,-586 486.5,-617\"/>\n<text text-anchor=\"middle\" x=\"459.5\" y=\"-593\" font-family=\"monospace\" font-size=\"10.00\"> (1)</text>\n</g>\n<!-- 133006079280304&#45;&gt;133005887416272 -->\n<g id=\"edge30\" class=\"edge\">\n<title>133006079280304&#45;&gt;133005887416272</title>\n<path fill=\"none\" stroke=\"black\" d=\"M470.13,-585.92C476.18,-577.61 483.8,-567.16 490.12,-558.48\"/>\n<polygon fill=\"black\" stroke=\"black\" points=\"493.06,-560.39 496.12,-550.25 487.4,-556.27 493.06,-560.39\"/>\n</g>\n<!-- 133005887412336 -->\n<g id=\"node31\" class=\"node\">\n<title>133005887412336</title>\n<polygon fill=\"lightgrey\" stroke=\"black\" points=\"755,-330 666,-330 666,-311 755,-311 755,-330\"/>\n<text text-anchor=\"middle\" x=\"710.5\" y=\"-318\" font-family=\"monospace\" font-size=\"10.00\">SumBackward0</text>\n</g>\n<!-- 133005887412336&#45;&gt;133005887418144 -->\n<g id=\"edge31\" class=\"edge\">\n<title>133005887412336&#45;&gt;133005887418144</title>\n<path fill=\"none\" stroke=\"black\" d=\"M695.3,-310.79C678.39,-301.11 650.86,-285.34 631.14,-274.04\"/>\n<polygon fill=\"black\" stroke=\"black\" points=\"632.84,-270.98 622.43,-269.05 629.36,-277.06 632.84,-270.98\"/>\n</g>\n<!-- 133006125928208 -->\n<g id=\"node32\" class=\"node\">\n<title>133006125928208</title>\n<polygon fill=\"lightgrey\" stroke=\"black\" points=\"817,-385 704,-385 704,-366 817,-366 817,-385\"/>\n<text text-anchor=\"middle\" x=\"760.5\" y=\"-373\" font-family=\"monospace\" font-size=\"10.00\">SigmoidBackward0</text>\n</g>\n<!-- 133006125928208&#45;&gt;133005887412336 -->\n<g id=\"edge32\" class=\"edge\">\n<title>133006125928208&#45;&gt;133005887412336</title>\n<path fill=\"none\" stroke=\"black\" d=\"M752.24,-365.75C745.04,-358.11 734.39,-346.82 725.65,-337.56\"/>\n<polygon fill=\"black\" stroke=\"black\" points=\"728.01,-334.96 718.6,-330.09 722.92,-339.76 728.01,-334.96\"/>\n</g>\n<!-- 133006105840176 -->\n<g id=\"node33\" class=\"node\">\n<title>133006105840176</title>\n<polygon fill=\"lightgrey\" stroke=\"black\" points=\"857,-440 756,-440 756,-421 857,-421 857,-440\"/>\n<text text-anchor=\"middle\" x=\"806.5\" y=\"-428\" font-family=\"monospace\" font-size=\"10.00\">StackBackward0</text>\n</g>\n<!-- 133006105840176&#45;&gt;133006125928208 -->\n<g id=\"edge33\" class=\"edge\">\n<title>133006105840176&#45;&gt;133006125928208</title>\n<path fill=\"none\" stroke=\"black\" d=\"M798.9,-420.75C792.34,-413.18 782.68,-402.05 774.69,-392.84\"/>\n<polygon fill=\"black\" stroke=\"black\" points=\"777.15,-390.35 767.95,-385.09 771.87,-394.94 777.15,-390.35\"/>\n</g>\n<!-- 133005887414928 -->\n<g id=\"node34\" class=\"node\">\n<title>133005887414928</title>\n<polygon fill=\"lightgrey\" stroke=\"black\" points=\"1021,-495 932,-495 932,-476 1021,-476 1021,-495\"/>\n<text text-anchor=\"middle\" x=\"976.5\" y=\"-483\" font-family=\"monospace\" font-size=\"10.00\">AddBackward0</text>\n</g>\n<!-- 133005887414928&#45;&gt;133006105840176 -->\n<g id=\"edge34\" class=\"edge\">\n<title>133005887414928&#45;&gt;133006105840176</title>\n<path fill=\"none\" stroke=\"black\" d=\"M949.19,-475.98C920.65,-467.09 875.67,-453.07 843.86,-443.15\"/>\n<polygon fill=\"black\" stroke=\"black\" points=\"844.62,-439.72 834.03,-440.08 842.53,-446.4 844.62,-439.72\"/>\n</g>\n<!-- 133005887416416&#45;&gt;133005887414928 -->\n<g id=\"edge35\" class=\"edge\">\n<title>133005887416416&#45;&gt;133005887414928</title>\n<path fill=\"none\" stroke=\"black\" d=\"M976.5,-530.75C976.5,-523.8 976.5,-513.85 976.5,-505.13\"/>\n<polygon fill=\"black\" stroke=\"black\" points=\"980,-505.09 976.5,-495.09 973,-505.09 980,-505.09\"/>\n</g>\n<!-- 133005887416752 -->\n<g id=\"node36\" class=\"node\">\n<title>133005887416752</title>\n<polygon fill=\"lightgrey\" stroke=\"black\" points=\"1036,-611 935,-611 935,-592 1036,-592 1036,-611\"/>\n<text text-anchor=\"middle\" x=\"985.5\" y=\"-599\" font-family=\"monospace\" font-size=\"10.00\">AccumulateGrad</text>\n</g>\n<!-- 133005887416752&#45;&gt;133005887416416 -->\n<g id=\"edge36\" class=\"edge\">\n<title>133005887416752&#45;&gt;133005887416416</title>\n<path fill=\"none\" stroke=\"black\" d=\"M984.17,-591.79C982.91,-583.52 980.97,-570.79 979.35,-560.21\"/>\n<polygon fill=\"black\" stroke=\"black\" points=\"982.8,-559.6 977.83,-550.24 975.88,-560.65 982.8,-559.6\"/>\n</g>\n<!-- 133006079293104 -->\n<g id=\"node37\" class=\"node\">\n<title>133006079293104</title>\n<polygon fill=\"lightblue\" stroke=\"black\" points=\"1012.5,-684 958.5,-684 958.5,-653 1012.5,-653 1012.5,-684\"/>\n<text text-anchor=\"middle\" x=\"985.5\" y=\"-660\" font-family=\"monospace\" font-size=\"10.00\"> (1)</text>\n</g>\n<!-- 133006079293104&#45;&gt;133005887416752 -->\n<g id=\"edge37\" class=\"edge\">\n<title>133006079293104&#45;&gt;133005887416752</title>\n<path fill=\"none\" stroke=\"black\" d=\"M985.5,-652.75C985.5,-643.39 985.5,-631.19 985.5,-621.16\"/>\n<polygon fill=\"black\" stroke=\"black\" points=\"989,-621.02 985.5,-611.02 982,-621.02 989,-621.02\"/>\n</g>\n<!-- 133005887416128 -->\n<g id=\"node38\" class=\"node\">\n<title>133005887416128</title>\n<polygon fill=\"lightgrey\" stroke=\"black\" points=\"1140,-550 1039,-550 1039,-531 1140,-531 1140,-550\"/>\n<text text-anchor=\"middle\" x=\"1089.5\" y=\"-538\" font-family=\"monospace\" font-size=\"10.00\">AccumulateGrad</text>\n</g>\n<!-- 133005887416128&#45;&gt;133005887414928 -->\n<g id=\"edge39\" class=\"edge\">\n<title>133005887416128&#45;&gt;133005887414928</title>\n<path fill=\"none\" stroke=\"black\" d=\"M1071.34,-530.98C1053.25,-522.5 1025.22,-509.35 1004.31,-499.54\"/>\n<polygon fill=\"black\" stroke=\"black\" points=\"1005.53,-496.25 994.99,-495.17 1002.55,-502.59 1005.53,-496.25\"/>\n</g>\n<!-- 133005880795744 -->\n<g id=\"node39\" class=\"node\">\n<title>133005880795744</title>\n<polygon fill=\"lightblue\" stroke=\"black\" points=\"1116.5,-617 1062.5,-617 1062.5,-586 1116.5,-586 1116.5,-617\"/>\n<text text-anchor=\"middle\" x=\"1089.5\" y=\"-593\" font-family=\"monospace\" font-size=\"10.00\"> (1)</text>\n</g>\n<!-- 133005880795744&#45;&gt;133005887416128 -->\n<g id=\"edge40\" class=\"edge\">\n<title>133005880795744&#45;&gt;133005887416128</title>\n<path fill=\"none\" stroke=\"black\" d=\"M1089.5,-585.92C1089.5,-578.22 1089.5,-568.69 1089.5,-560.43\"/>\n<polygon fill=\"black\" stroke=\"black\" points=\"1093,-560.25 1089.5,-550.25 1086,-560.25 1093,-560.25\"/>\n</g>\n<!-- 133005887416464 -->\n<g id=\"node40\" class=\"node\">\n<title>133005887416464</title>\n<polygon fill=\"lightgrey\" stroke=\"black\" points=\"851,-495 762,-495 762,-476 851,-476 851,-495\"/>\n<text text-anchor=\"middle\" x=\"806.5\" y=\"-483\" font-family=\"monospace\" font-size=\"10.00\">AddBackward0</text>\n</g>\n<!-- 133005887416464&#45;&gt;133006105840176 -->\n<g id=\"edge41\" class=\"edge\">\n<title>133005887416464&#45;&gt;133006105840176</title>\n<path fill=\"none\" stroke=\"black\" d=\"M806.5,-475.75C806.5,-468.8 806.5,-458.85 806.5,-450.13\"/>\n<polygon fill=\"black\" stroke=\"black\" points=\"810,-450.09 806.5,-440.09 803,-450.09 810,-450.09\"/>\n</g>\n<!-- 133005887416848&#45;&gt;133005887416464 -->\n<g id=\"edge42\" class=\"edge\">\n<title>133005887416848&#45;&gt;133005887416464</title>\n<path fill=\"none\" stroke=\"black\" d=\"M759.5,-530.98C767.69,-523.23 780.01,-511.58 789.97,-502.14\"/>\n<polygon fill=\"black\" stroke=\"black\" points=\"792.48,-504.59 797.34,-495.17 787.67,-499.5 792.48,-504.59\"/>\n</g>\n<!-- 133005887416560 -->\n<g id=\"node42\" class=\"node\">\n<title>133005887416560</title>\n<polygon fill=\"lightgrey\" stroke=\"black\" points=\"844,-611 743,-611 743,-592 844,-592 844,-611\"/>\n<text text-anchor=\"middle\" x=\"793.5\" y=\"-599\" font-family=\"monospace\" font-size=\"10.00\">AccumulateGrad</text>\n</g>\n<!-- 133005887416560&#45;&gt;133005887416848 -->\n<g id=\"edge43\" class=\"edge\">\n<title>133005887416560&#45;&gt;133005887416848</title>\n<path fill=\"none\" stroke=\"black\" d=\"M787.16,-591.79C780.8,-583.08 770.86,-569.44 762.93,-558.56\"/>\n<polygon fill=\"black\" stroke=\"black\" points=\"765.59,-556.26 756.87,-550.24 759.93,-560.38 765.59,-556.26\"/>\n</g>\n<!-- 133005880796304 -->\n<g id=\"node43\" class=\"node\">\n<title>133005880796304</title>\n<polygon fill=\"lightblue\" stroke=\"black\" points=\"820.5,-684 766.5,-684 766.5,-653 820.5,-653 820.5,-684\"/>\n<text text-anchor=\"middle\" x=\"793.5\" y=\"-660\" font-family=\"monospace\" font-size=\"10.00\"> (1)</text>\n</g>\n<!-- 133005880796304&#45;&gt;133005887416560 -->\n<g id=\"edge44\" class=\"edge\">\n<title>133005880796304&#45;&gt;133005887416560</title>\n<path fill=\"none\" stroke=\"black\" d=\"M793.5,-652.75C793.5,-643.39 793.5,-631.19 793.5,-621.16\"/>\n<polygon fill=\"black\" stroke=\"black\" points=\"797,-621.02 793.5,-611.02 790,-621.02 797,-621.02\"/>\n</g>\n<!-- 133005887416896 -->\n<g id=\"node44\" class=\"node\">\n<title>133005887416896</title>\n<polygon fill=\"lightgrey\" stroke=\"black\" points=\"914,-550 813,-550 813,-531 914,-531 914,-550\"/>\n<text text-anchor=\"middle\" x=\"863.5\" y=\"-538\" font-family=\"monospace\" font-size=\"10.00\">AccumulateGrad</text>\n</g>\n<!-- 133005887416896&#45;&gt;133005887416464 -->\n<g id=\"edge46\" class=\"edge\">\n<title>133005887416896&#45;&gt;133005887416464</title>\n<path fill=\"none\" stroke=\"black\" d=\"M854.34,-530.98C846,-523.23 833.47,-511.58 823.32,-502.14\"/>\n<polygon fill=\"black\" stroke=\"black\" points=\"825.53,-499.42 815.82,-495.17 820.76,-504.54 825.53,-499.42\"/>\n</g>\n<!-- 133005880796144 -->\n<g id=\"node45\" class=\"node\">\n<title>133005880796144</title>\n<polygon fill=\"lightblue\" stroke=\"black\" points=\"916.5,-617 862.5,-617 862.5,-586 916.5,-586 916.5,-617\"/>\n<text text-anchor=\"middle\" x=\"889.5\" y=\"-593\" font-family=\"monospace\" font-size=\"10.00\"> (1)</text>\n</g>\n<!-- 133005880796144&#45;&gt;133005887416896 -->\n<g id=\"edge47\" class=\"edge\">\n<title>133005880796144&#45;&gt;133005887416896</title>\n<path fill=\"none\" stroke=\"black\" d=\"M883.07,-585.92C879.57,-577.96 875.19,-568.04 871.47,-559.59\"/>\n<polygon fill=\"black\" stroke=\"black\" points=\"874.59,-557.99 867.36,-550.25 868.19,-560.81 874.59,-557.99\"/>\n</g>\n<!-- 133005887415120 -->\n<g id=\"node46\" class=\"node\">\n<title>133005887415120</title>\n<polygon fill=\"lightgrey\" stroke=\"black\" points=\"878,-141 777,-141 777,-122 878,-122 878,-141\"/>\n<text text-anchor=\"middle\" x=\"827.5\" y=\"-129\" font-family=\"monospace\" font-size=\"10.00\">AccumulateGrad</text>\n</g>\n<!-- 133005887415120&#45;&gt;133005887413968 -->\n<g id=\"edge48\" class=\"edge\">\n<title>133005887415120&#45;&gt;133005887413968</title>\n<path fill=\"none\" stroke=\"black\" d=\"M818.34,-121.98C810,-114.23 797.47,-102.58 787.32,-93.14\"/>\n<polygon fill=\"black\" stroke=\"black\" points=\"789.53,-90.42 779.82,-86.17 784.76,-95.54 789.53,-90.42\"/>\n</g>\n<!-- 133005880796464 -->\n<g id=\"node47\" class=\"node\">\n<title>133005880796464</title>\n<polygon fill=\"lightblue\" stroke=\"black\" points=\"854.5,-208 800.5,-208 800.5,-177 854.5,-177 854.5,-208\"/>\n<text text-anchor=\"middle\" x=\"827.5\" y=\"-184\" font-family=\"monospace\" font-size=\"10.00\"> (1)</text>\n</g>\n<!-- 133005880796464&#45;&gt;133005887415120 -->\n<g id=\"edge49\" class=\"edge\">\n<title>133005880796464&#45;&gt;133005887415120</title>\n<path fill=\"none\" stroke=\"black\" d=\"M827.5,-176.92C827.5,-169.22 827.5,-159.69 827.5,-151.43\"/>\n<polygon fill=\"black\" stroke=\"black\" points=\"831,-151.25 827.5,-141.25 824,-151.25 831,-151.25\"/>\n</g>\n</g>\n</svg>\n",
            "text/plain": [
              "<graphviz.graphs.Digraph at 0x78f7d8ac2ff0>"
            ]
          },
          "metadata": {},
          "execution_count": 70
        }
      ]
    }
  ]
}